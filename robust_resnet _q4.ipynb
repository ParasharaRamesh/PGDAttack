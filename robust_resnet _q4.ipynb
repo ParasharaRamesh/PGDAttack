{
 "cells": [
  {
   "metadata": {},
   "cell_type": "markdown",
   "source": [
    "# About\n",
    "\n",
    "This notebook attempts to finetune a resnet model to be more Robust by leveraging Projected Gradient Descent (PGD) in the two different ways:\n",
    "1. include it as a part of the dataset\n",
    "2. include the projected gradient as well while training along with the regular gradient from the loss function "
   ],
   "id": "9befb1ddab3e4144"
  },
  {
   "metadata": {},
   "cell_type": "markdown",
   "source": "# 0. Importing required libraries\n",
   "id": "876d5185378e4464"
  },
  {
   "metadata": {
    "ExecuteTime": {
     "end_time": "2024-09-01T15:23:09.790209Z",
     "start_time": "2024-09-01T15:23:09.774578Z"
    }
   },
   "cell_type": "code",
   "source": "# !pip install lightning[extra]",
   "id": "d359d5eb64ade957",
   "outputs": [],
   "execution_count": 1
  },
  {
   "cell_type": "code",
   "id": "initial_id",
   "metadata": {
    "collapsed": true,
    "ExecuteTime": {
     "end_time": "2024-09-01T15:23:13.218751Z",
     "start_time": "2024-09-01T15:23:09.916613Z"
    }
   },
   "source": [
    "import random\n",
    "import os\n",
    "from datasets import load_dataset\n",
    "from torchvision.models import resnet50, ResNet50_Weights\n",
    "from torch import nn\n",
    "from torch.utils.data import DataLoader\n",
    "from tqdm.auto import tqdm\n",
    "import torchvision.transforms as transforms\n",
    "import torch\n",
    "import torch.nn.functional as F\n",
    "from pytorch_lightning import LightningModule, Trainer\n",
    "from pytorch_lightning.callbacks import ModelCheckpoint\n",
    "from torchmetrics import Accuracy\n",
    "from tqdm import tqdm"
   ],
   "outputs": [],
   "execution_count": 2
  },
  {
   "metadata": {},
   "cell_type": "markdown",
   "source": "# 1. Setup",
   "id": "5f6951e549aa8a2c"
  },
  {
   "metadata": {
    "ExecuteTime": {
     "end_time": "2024-09-01T15:23:14.759858Z",
     "start_time": "2024-09-01T15:23:13.218751Z"
    }
   },
   "cell_type": "code",
   "source": [
    "# Manual seed for reproducibility\n",
    "SEED = 1234\n",
    "torch.manual_seed(SEED)\n",
    "\n",
    "# Params for PGD\n",
    "ALPHA = 2/255\n",
    "STEPS = 20\n",
    "EPSILON = 8/255\n",
    "\n",
    "DEVICE = torch.device('cuda' if torch.cuda.is_available() else 'cpu')"
   ],
   "id": "8e43067e9bcd293c",
   "outputs": [],
   "execution_count": 3
  },
  {
   "metadata": {},
   "cell_type": "markdown",
   "source": "### 1.1 Loading the model",
   "id": "ecc4c4b8b915da80"
  },
  {
   "metadata": {
    "ExecuteTime": {
     "end_time": "2024-09-01T15:23:15.018290Z",
     "start_time": "2024-09-01T15:23:14.760296Z"
    }
   },
   "cell_type": "code",
   "source": [
    "weights = ResNet50_Weights.DEFAULT\n",
    "model = resnet50(weights=weights)\n",
    "preprocess = weights.transforms()"
   ],
   "id": "2ff42231a70a45ad",
   "outputs": [],
   "execution_count": 4
  },
  {
   "metadata": {},
   "cell_type": "markdown",
   "source": "### 1.2 Loading the datasets",
   "id": "547319e9ec62f2d9"
  },
  {
   "metadata": {
    "ExecuteTime": {
     "end_time": "2024-09-01T15:23:15.034326Z",
     "start_time": "2024-09-01T15:23:15.020569Z"
    }
   },
   "cell_type": "code",
   "source": [
    "def preprocess_img(example):\n",
    "    example['image'] = preprocess(example['image'])\n",
    "    return example\n",
    "\n",
    "def get_dataloader(split: str, batch_num: int, batch_size: int):\n",
    "    '''\n",
    "        \n",
    "    :param split: can be either train, test or validation \n",
    "    :return: \n",
    "    '''\n",
    "    print(f\"Loading {split} ILSVRC/imagenet-1k dataset...\")\n",
    "    ds = load_dataset(\"ILSVRC/imagenet-1k\", split=split, streaming=True, trust_remote_code=True)\n",
    "    \n",
    "    # Filter out grayscale images\n",
    "    ds = ds.filter(lambda example: example['image'].mode == 'RGB')\n",
    "    \n",
    "    # Preprocess function will be applied to images on-the-fly whenever they are being accessed in the loop\n",
    "    ds = ds.map(preprocess_img)\n",
    "    ds = ds.shuffle(seed=SEED)\n",
    "    \n",
    "    # Only take desired portion of dataset\n",
    "    ds = ds.take(batch_num * batch_size)\n",
    "    print(f\"Creating dataloader with {batch_num} batches for split {split} each with size {batch_size}\")\n",
    "    return DataLoader(ds, batch_size=batch_size)\n",
    "    "
   ],
   "id": "1e9fafc8606bddd2",
   "outputs": [],
   "execution_count": 5
  },
  {
   "metadata": {},
   "cell_type": "markdown",
   "source": "### 1.3 My Resnet PGD Attacker",
   "id": "2c84e145464783a6"
  },
  {
   "metadata": {
    "ExecuteTime": {
     "end_time": "2024-09-01T15:25:43.538959Z",
     "start_time": "2024-09-01T15:25:43.507318Z"
    }
   },
   "cell_type": "code",
   "source": [
    "class ResnetPGDAttacker:\n",
    "    def __init__(self, model, device=DEVICE):\n",
    "        '''\n",
    "        The PGD attack on Resnet model.\n",
    "        :param model: The resnet model on which we perform the attack\n",
    "        :param dataloader: The dataloader loading the input data on which we perform the attack\n",
    "        '''\n",
    "        self.model = model\n",
    "        self.loss_fn = nn.CrossEntropyLoss()\n",
    "        self.eps = 0\n",
    "        self.alpha = 0\n",
    "        self.steps = 0\n",
    "        self.device = DEVICE\n",
    "        self.model.to(self.device)\n",
    "        \n",
    "        # Nullify gradient for model params\n",
    "        for p in self.model.parameters():\n",
    "            p.requires_grad = False\n",
    "\n",
    "    def pgd_attack(self, image, label, eps=None, alpha=None, steps=None):\n",
    "        '''\n",
    "        Create adversarial images for given batch of images and labels\n",
    "\n",
    "        :param image: Batch of input images on which we perform the attack, size (BATCH_SIZE, 3, 224, 224)\n",
    "        :param label: Batch of input labels on which we perform the attack, size (BATCH_SIZE)\n",
    "        :return: Adversarial images for the given input images\n",
    "        '''\n",
    "        if eps is None:\n",
    "            eps = self.eps\n",
    "        if alpha is None:\n",
    "            alpha = self.alpha\n",
    "        if steps is None:\n",
    "            steps = self.steps\n",
    "\n",
    "        images = image.clone().detach().to(self.device)\n",
    "        adv_images = image.clone().detach().to(self.device)\n",
    "        labels = label.clone().detach().to(self.device)\n",
    "\n",
    "        # Starting at a uniformly random point within the eps ball\n",
    "        random_noise = torch.zeros_like(adv_images).uniform_(-eps, eps)\n",
    "        adv_images = adv_images + random_noise\n",
    "        \n",
    "        # Enable gradient tracking for adversarial images\n",
    "        adv_images.requires_grad = True\n",
    "\n",
    "        for _ in range(steps):\n",
    "            # Get model predictions and apply softmax\n",
    "            outputs = self.model(adv_images).softmax(1)\n",
    "\n",
    "            # Calculate loss\n",
    "            loss = self.loss_fn(outputs, labels)\n",
    "\n",
    "            print(f\"Loss: {loss}\")\n",
    "            print(f\"Adversarial images: {adv_images}\")\n",
    "            \n",
    "            assert loss.requires_grad == True, \"loss should be requires_grad\" #TODO.x why does this fail for jupyter notebook but work in python script?\n",
    "            assert adv_images.requires_grad == True, \"adv_images should be requires_grad\"\n",
    "            # Compute gradient wrt images\n",
    "            grad = torch.autograd.grad(\n",
    "                loss, adv_images, retain_graph=False, create_graph=False\n",
    "            )[0]\n",
    "\n",
    "            # Gradient update\n",
    "            adv_images = adv_images + alpha * grad.sign()  # Update adversarial images using the sign of the gradient\n",
    "\n",
    "            # Projection step\n",
    "            # Clamping the adversarial images to ensure they are within the L∞ ball of eps radius of original image\n",
    "            adv_images = torch.clamp(adv_images, images - eps, images + eps)\n",
    "\n",
    "        #detaching only in the end\n",
    "        adv_images = adv_images.detach()\n",
    "        return adv_images  # Return the generated adversarial images\n"
   ],
   "id": "29fb7354c84af91b",
   "outputs": [],
   "execution_count": 13
  },
  {
   "metadata": {},
   "cell_type": "markdown",
   "source": [
    "# 2. Functions related to generating & saving + fetching saved data from a location\n",
    "\n",
    "(TODO) : maybe this is not needed as I am creating a dataset directly!"
   ],
   "id": "4651ce982318861a"
  },
  {
   "metadata": {
    "ExecuteTime": {
     "end_time": "2024-09-01T15:25:44.159614Z",
     "start_time": "2024-09-01T15:25:44.128361Z"
    }
   },
   "cell_type": "code",
   "source": [
    "def fetch_perturbed_images_from_location(location: str):\n",
    "    \"\"\"\n",
    "    Fetch and concatenate all perturbed images and labels from the specified directory.\n",
    "\n",
    "    :param location: The directory where the .pt files are saved.\n",
    "    :return: Tuple of concatenated adversarial images and labels.\n",
    "    \"\"\"\n",
    "    adv_images = []\n",
    "    labels = []\n",
    "\n",
    "    # Iterate through all .pt files in the specified directory\n",
    "    for file_name in os.listdir(location):\n",
    "        if file_name.endswith(\".pt\"):\n",
    "            file_path = os.path.join(location, file_name)\n",
    "            data = torch.load(file_path)\n",
    "            adv_images.append(data['adv_images'])\n",
    "            labels.append(data['labels'])\n",
    "\n",
    "    # Concatenate all adversarial images and labels\n",
    "    adv_images = torch.cat(adv_images)\n",
    "    labels = torch.cat(labels)\n",
    "\n",
    "    return adv_images, labels\n",
    "\n",
    "def generate_adv_images(dataloader, model, store: bool = False, store_dir: str = 'adv_images'):\n",
    "    \"\"\"\n",
    "    Generate adversarial images using the PGD method and save them in a directory.\n",
    "\n",
    "    :param dataloader: dataloader of images, labels.\n",
    "    :param model: The ResNet model used for generating adversarial images.\n",
    "    :param store: Boolean flag to indicate whether to save the generated images.\n",
    "    :param store_dir: The directory where the adversarial images and labels will be saved.\n",
    "    :return: Tuple of adversarial images and their corresponding labels.\n",
    "    \"\"\"\n",
    "    # Initialize the attacker\n",
    "    attacker = ResnetPGDAttacker(model, dataloader)\n",
    "\n",
    "    # Generate adversarial images\n",
    "    adv_images = []\n",
    "    labels = []\n",
    "    for batch in tqdm(dataloader):\n",
    "        img_batch, label_batch = batch['image'], batch['label']\n",
    "        adv_images_batch = attacker.pgd_attack(img_batch, label_batch, steps = random.randint(5, STEPS)) #randomly take 5->20 steps\n",
    "        adv_images.append(adv_images_batch)\n",
    "        labels.append(label_batch)\n",
    "\n",
    "    # Concatenate all adversarial images\n",
    "    adv_images = torch.cat(adv_images)\n",
    "    labels = torch.cat(labels)\n",
    "\n",
    "    if store:\n",
    "        # Create the store directory if it doesn't exist\n",
    "        os.makedirs(store_dir, exist_ok=True)\n",
    "    \n",
    "        # Save the adversarial images and labels in multiple files\n",
    "        for j in range(0, len(adv_images), 1000):  # Save in batches of 1000\n",
    "            start = j\n",
    "            end = min(j + 1000, len(adv_images))\n",
    "            file_path = os.path.join(store_dir, f\"adv_images_{start}-{end-1}.pt\")\n",
    "            torch.save({'adv_images': adv_images[start:end], 'labels': labels[start:end]}, file_path)\n",
    "            print(f\"Adversarial images saved at: {file_path}\")\n",
    "        \n",
    "    return store_dir, adv_images, labels"
   ],
   "id": "1e038a305a7bcbe0",
   "outputs": [],
   "execution_count": 14
  },
  {
   "metadata": {},
   "cell_type": "markdown",
   "source": "# 3. Creating the fine-tuning dataset",
   "id": "daebe3fda5c80640"
  },
  {
   "metadata": {
    "ExecuteTime": {
     "end_time": "2024-09-01T15:25:44.667762Z",
     "start_time": "2024-09-01T15:25:44.651720Z"
    }
   },
   "cell_type": "code",
   "source": [
    "class RobustDataLoader(DataLoader):\n",
    "    def __init__(self, dataset, model, num_perturbations=2, num_transformations=1, device=DEVICE, **kwargs):\n",
    "        \"\"\"\n",
    "        Robust DataLoader that includes original, perturbed, and augmented images.\n",
    "\n",
    "        :param dataset: Dataset containing original images and labels.\n",
    "        :param model: The ResNet model used for generating adversarial images.\n",
    "        :param num_perturbations: Number of perturbations to generate for each original image.\n",
    "        :param num_transformations: Number of transformations to apply to each image.\n",
    "        :param kwargs: Additional arguments to be passed to the parent class constructor.\n",
    "        \"\"\"\n",
    "        super().__init__(dataset, **kwargs) # self.dataset is defined inside of this       \n",
    "        self.device = device\n",
    "        self.model = model.to(self.device)\n",
    "        self.num_perturbations = num_perturbations\n",
    "        self.num_transformations = num_transformations\n",
    "        self.pgd_attacker = ResnetPGDAttacker(model=self.model)\n",
    "\n",
    "        # Define transformations\n",
    "        self.transformations = [\n",
    "            transforms.Compose([\n",
    "                transforms.RandomHorizontalFlip(),\n",
    "            ]),\n",
    "            transforms.Compose([\n",
    "                transforms.RandomVerticalFlip(),\n",
    "            ]),\n",
    "            transforms.Compose([\n",
    "                transforms.RandomRotation(20),\n",
    "            ]),\n",
    "            transforms.Compose([\n",
    "                transforms.RandomHorizontalFlip(),\n",
    "                transforms.RandomRotation(20),\n",
    "                transforms.RandomAffine(degrees=0, translate=(0.1, 0.1)),\n",
    "            ]),\n",
    "            transforms.Compose([\n",
    "                transforms.RandomVerticalFlip(),\n",
    "                transforms.RandomRotation(20),\n",
    "                transforms.RandomAffine(degrees=0, translate=(0.1, 0.1)),\n",
    "            ])\n",
    "        ]\n",
    "\n",
    "    def perform_pgd(self, image, label):\n",
    "        random_eps = random.uniform(0.01, 0.3)\n",
    "        random_alpha = random.uniform(0.01, 0.1)\n",
    "        random_steps = 15\n",
    "        perturbed_image = self.pgd_attacker.pgd_attack(image.unsqueeze(0), label.unsqueeze(0), eps=random_eps,\n",
    "                                                  alpha=random_alpha, steps=random_steps)\n",
    "        return perturbed_image.squeeze(0).to(self.device)\n",
    "\n",
    "    def __iter__(self):\n",
    "        for datapoint in self.dataset:\n",
    "            image = datapoint['image'].to(self.device)\n",
    "            label = torch.tensor(datapoint['label']).to(self.device)\n",
    "\n",
    "            original_images = []\n",
    "            original_labels = []\n",
    "            perturbed_images = []\n",
    "            transformed_images = []\n",
    "\n",
    "            # Collect original images and labels\n",
    "            original_images.append(image)\n",
    "            original_labels.append(label)\n",
    "\n",
    "            # Generate and collect perturbations\n",
    "            for _ in range(self.num_perturbations):\n",
    "                perturbed_image = self.perform_pgd(image, label)\n",
    "                perturbed_images.append(perturbed_image)\n",
    "                original_labels.append(label)\n",
    "\n",
    "            # Generate and collect transformations\n",
    "            for _ in range(self.num_transformations):\n",
    "                transformation_index = random.randint(0, len(self.transformations) - 1)\n",
    "                transformed_image = self.transformations[transformation_index](image).to(self.device)\n",
    "                transformed_images.append(transformed_image)\n",
    "                original_labels.append(label)\n",
    "\n",
    "            # Concatenate images and labels into batches\n",
    "            all_images = original_images + perturbed_images + transformed_images\n",
    "            all_labels = original_labels\n",
    "\n",
    "            # Yield the batch\n",
    "            yield torch.stack(all_images).to(self.device), torch.tensor(all_labels).to(self.device)"
   ],
   "id": "1e6d83ded5e4d4f0",
   "outputs": [],
   "execution_count": 15
  },
  {
   "metadata": {
    "ExecuteTime": {
     "end_time": "2024-09-01T15:25:44.928384Z",
     "start_time": "2024-09-01T15:25:44.912753Z"
    }
   },
   "cell_type": "code",
   "source": [
    "def create_dataloader(split, batch_num=1, batch_size=1):\n",
    "    BATCH_NUM = batch_num\n",
    "    BATCH_SIZE = batch_size\n",
    "    \n",
    "    # Load the dataset directly using load_dataset\n",
    "    ds = load_dataset(\"ILSVRC/imagenet-1k\", split=split, streaming=True, trust_remote_code=True)\n",
    "    \n",
    "    # Preprocess the dataset\n",
    "    ds = ds.filter(lambda example: example['image'].mode == 'RGB')\n",
    "    ds = ds.map(preprocess_img)\n",
    "    ds = ds.shuffle(seed=SEED)\n",
    "    ds = ds.take(BATCH_NUM * BATCH_SIZE)\n",
    "\n",
    "    # Create the RobustDataLoader\n",
    "    return RobustDataLoader(ds, model, num_perturbations=1, num_transformations=1, batch_size=BATCH_SIZE)\n"
   ],
   "id": "2529e44c8e523535",
   "outputs": [],
   "execution_count": 16
  },
  {
   "metadata": {
    "ExecuteTime": {
     "end_time": "2024-09-01T15:25:57.866754Z",
     "start_time": "2024-09-01T15:25:45.239311Z"
    }
   },
   "cell_type": "code",
   "source": [
    "train_loader = create_dataloader(\"train\")\n",
    "val_loader = create_dataloader(\"validation\")\n",
    "test_loader = create_dataloader(\"test\")"
   ],
   "id": "5095391b088ee33e",
   "outputs": [],
   "execution_count": 17
  },
  {
   "metadata": {},
   "cell_type": "markdown",
   "source": "# 4. Implementing Robust Resnet",
   "id": "f2b608c00b6103c6"
  },
  {
   "metadata": {
    "ExecuteTime": {
     "end_time": "2024-09-01T15:25:57.882407Z",
     "start_time": "2024-09-01T15:25:57.866754Z"
    }
   },
   "cell_type": "code",
   "source": [
    "class RobustResnet(LightningModule):\n",
    "    def __init__(self, model=model, train_loader=train_loader, val_loader=val_loader, test_loader=test_loader,\n",
    "                 learning_rate=1e-3):\n",
    "        super().__init__()\n",
    "        self.train_loader = train_loader\n",
    "        self.test_loader = test_loader\n",
    "        self.val_loader = val_loader\n",
    "        self.model = model\n",
    "        self.learning_rate = learning_rate\n",
    "        self.train_acc = Accuracy(\"multiclass\", num_classes=1000)\n",
    "        self.val_acc = Accuracy(\"multiclass\", num_classes=1000)\n",
    "        self.test_acc = Accuracy(\"multiclass\", num_classes=1000)\n",
    "\n",
    "        # Initialize the PGD attacker once\n",
    "        self.pgd_attacker = ResnetPGDAttacker(model=self.model)\n",
    "\n",
    "    def forward(self, x):\n",
    "        return self.model(x)\n",
    "\n",
    "    def training_step(self, batch, batch_idx):\n",
    "        images, labels = batch\n",
    "        logits = self.model(images)\n",
    "        ce_loss = F.cross_entropy(logits, labels)\n",
    "        pgd_loss = self.pgd_loss(images, labels)\n",
    "        loss = ce_loss + pgd_loss\n",
    "\n",
    "        self.train_acc(logits, labels)\n",
    "        self.log('train_ce_loss', ce_loss)\n",
    "        self.log('train_pgd_loss', pgd_loss)\n",
    "        self.log('train_loss', loss)\n",
    "        self.log('train_acc', self.train_acc, on_step=False, on_epoch=True)\n",
    "        return loss\n",
    "\n",
    "    def validation_step(self, batch, batch_idx):\n",
    "        images, labels = batch\n",
    "        logits = self.model(images)\n",
    "        ce_loss = F.cross_entropy(logits, labels)\n",
    "        pgd_loss = self.pgd_loss(images, labels)\n",
    "        loss = ce_loss + pgd_loss\n",
    "        self.val_acc(logits, labels)\n",
    "        self.log('val_ce_loss', ce_loss, on_step=False, on_epoch=True)\n",
    "        self.log('val_pgd_loss', pgd_loss, on_step=False, on_epoch=True)\n",
    "        self.log('val_loss', loss, on_step=False, on_epoch=True)\n",
    "        self.log('val_acc', self.val_acc, on_step=False, on_epoch=True)\n",
    "\n",
    "    def test_step(self, batch, batch_idx):\n",
    "        images, labels = batch\n",
    "        logits = self.model(images)\n",
    "        ce_loss = F.cross_entropy(logits, labels)\n",
    "        pgd_loss = self.pgd_loss(images, labels)\n",
    "        loss = ce_loss + pgd_loss\n",
    "        acc = self.test_acc(logits, labels)\n",
    "        self.log('test_ce_loss', ce_loss)\n",
    "        self.log('test_pgd_loss', pgd_loss)\n",
    "        self.log('test_loss', loss)\n",
    "        self.log('test_acc', acc)\n",
    "\n",
    "    def configure_optimizers(self):\n",
    "        return torch.optim.Adam(self.model.parameters(), lr=self.learning_rate)\n",
    "\n",
    "    def pgd_loss(self, images, labels):\n",
    "        # Generate adversarial examples and calculate the loss\n",
    "        adv_images = self.pgd_attacker.pgd_attack(images.to(self.device), labels.to(self.device))\n",
    "        adv_logits = self.model(adv_images)\n",
    "        pgd_loss = F.cross_entropy(adv_logits, labels.to(self.device))\n",
    "\n",
    "        return pgd_loss\n",
    "\n",
    "    def train_dataloader(self):\n",
    "        return self.train_loader\n",
    "\n",
    "    def val_dataloader(self):\n",
    "        return self.val_loader\n",
    "\n",
    "    def test_dataloader(self):\n",
    "        return self.test_loader"
   ],
   "id": "5b8ccd73ff3dcac6",
   "outputs": [],
   "execution_count": 18
  },
  {
   "metadata": {
    "ExecuteTime": {
     "end_time": "2024-09-01T15:26:19.962497Z",
     "start_time": "2024-09-01T15:25:57.882407Z"
    }
   },
   "cell_type": "code",
   "source": [
    "# Create the classifier\n",
    "classifier = RobustResnet(model, train_loader, val_loader, test_loader)\n",
    "\n",
    "checkpoint_callback = ModelCheckpoint(\n",
    "    monitor='val_loss',  # Monitor validation loss for saving the best model\n",
    "    dirpath='checkpoints/',  # Directory where checkpoints will be saved\n",
    "    filename='best-checkpoint',  # Checkpoint filename\n",
    "    save_top_k=1,  # Save only the best model\n",
    "    mode='min'  # Minimize the monitored metric\n",
    ")\n",
    "\n",
    "# Create a Trainer\n",
    "trainer = Trainer(\n",
    "    max_epochs=3,\n",
    "    accelerator='gpu',  # Specify the accelerator type\n",
    "    devices=1,  # Use 1 GPU if available\n",
    "    callbacks=[checkpoint_callback],  # Add the checkpoint callback\n",
    "    log_every_n_steps=1  # Log metrics every step\n",
    ")\n",
    "\n",
    "# Train the model\n",
    "trainer.fit(classifier)\n"
   ],
   "id": "49c4e5d6f46f3f06",
   "outputs": [
    {
     "name": "stderr",
     "output_type": "stream",
     "text": [
      "GPU available: True (cuda), used: True\n",
      "TPU available: False, using: 0 TPU cores\n",
      "HPU available: False, using: 0 HPUs\n",
      "LOCAL_RANK: 0 - CUDA_VISIBLE_DEVICES: [0]\n",
      "\n",
      "  | Name      | Type               | Params | Mode \n",
      "---------------------------------------------------------\n",
      "0 | model     | ResNet             | 25.6 M | eval \n",
      "1 | train_acc | MulticlassAccuracy | 0      | train\n",
      "2 | val_acc   | MulticlassAccuracy | 0      | train\n",
      "3 | test_acc  | MulticlassAccuracy | 0      | train\n",
      "---------------------------------------------------------\n",
      "0         Trainable params\n",
      "25.6 M    Non-trainable params\n",
      "25.6 M    Total params\n",
      "102.228   Total estimated model params size (MB)\n",
      "3         Modules in train mode\n",
      "151       Modules in eval mode\n"
     ]
    },
    {
     "data": {
      "text/plain": [
       "Sanity Checking: |          | 0/? [00:00<?, ?it/s]"
      ],
      "application/vnd.jupyter.widget-view+json": {
       "version_major": 2,
       "version_minor": 0,
       "model_id": "6d063b4ec1b34417bac33d9d7deb5767"
      }
     },
     "metadata": {},
     "output_type": "display_data"
    },
    {
     "name": "stdout",
     "output_type": "stream",
     "text": [
      "Loss: 6.653629779815674\n",
      "Adversarial images: tensor([[[[-0.5023, -0.4569, -0.5377,  ...,  0.9713,  0.8745,  0.7386],\n",
      "          [-0.4527, -0.2359, -0.4827,  ...,  0.9710,  0.9936,  0.9518],\n",
      "          [-0.2093, -0.2199, -0.5619,  ...,  0.6689,  0.8476,  1.1675],\n",
      "          ...,\n",
      "          [ 1.3939,  1.5134,  1.6850,  ...,  1.7968,  2.0799,  2.0123],\n",
      "          [ 1.5227,  1.7923,  1.5735,  ...,  1.6647,  1.8153,  1.9972],\n",
      "          [ 1.7974,  1.5117,  1.4493,  ...,  1.9405,  2.0178,  1.9242]],\n",
      "\n",
      "         [[-0.4390, -0.2397, -0.0431,  ...,  0.8970,  0.7794,  1.1366],\n",
      "          [-0.4884, -0.3496, -0.4493,  ...,  0.7607,  1.0689,  1.1576],\n",
      "          [-0.1161, -0.3655, -0.3715,  ...,  1.0805,  1.1811,  1.1440],\n",
      "          ...,\n",
      "          [ 2.0228,  1.7886,  2.0053,  ...,  2.1421,  2.2692,  2.2802],\n",
      "          [ 1.9608,  1.8276,  1.7157,  ...,  2.2434,  2.2565,  2.0161],\n",
      "          [ 1.9258,  1.7670,  1.8564,  ...,  2.2285,  2.1459,  2.3452]],\n",
      "\n",
      "         [[-0.1415, -0.3137, -0.0630,  ...,  1.1809,  1.3581,  1.4665],\n",
      "          [-0.1440, -0.2847, -0.2114,  ...,  1.2204,  1.4174,  1.3410],\n",
      "          [-0.0426, -0.2678, -0.3765,  ...,  1.3422,  1.3422,  1.0793],\n",
      "          ...,\n",
      "          [ 2.3141,  2.0005,  2.1824,  ...,  2.4977,  2.4276,  2.6463],\n",
      "          [ 2.2425,  2.3750,  1.9874,  ...,  2.7062,  2.5322,  2.4770],\n",
      "          [ 2.1193,  2.1343,  2.3377,  ...,  2.5346,  2.3676,  2.3016]]]],\n",
      "       device='cuda:0', requires_grad=True)\n"
     ]
    },
    {
     "ename": "AssertionError",
     "evalue": "loss should be requires_grad",
     "output_type": "error",
     "traceback": [
      "\u001B[1;31m---------------------------------------------------------------------------\u001B[0m",
      "\u001B[1;31mAssertionError\u001B[0m                            Traceback (most recent call last)",
      "Cell \u001B[1;32mIn[19], line 22\u001B[0m\n\u001B[0;32m     13\u001B[0m trainer \u001B[38;5;241m=\u001B[39m Trainer(\n\u001B[0;32m     14\u001B[0m     max_epochs\u001B[38;5;241m=\u001B[39m\u001B[38;5;241m3\u001B[39m,\n\u001B[0;32m     15\u001B[0m     accelerator\u001B[38;5;241m=\u001B[39m\u001B[38;5;124m'\u001B[39m\u001B[38;5;124mgpu\u001B[39m\u001B[38;5;124m'\u001B[39m,  \u001B[38;5;66;03m# Specify the accelerator type\u001B[39;00m\n\u001B[1;32m   (...)\u001B[0m\n\u001B[0;32m     18\u001B[0m     log_every_n_steps\u001B[38;5;241m=\u001B[39m\u001B[38;5;241m1\u001B[39m  \u001B[38;5;66;03m# Log metrics every step\u001B[39;00m\n\u001B[0;32m     19\u001B[0m )\n\u001B[0;32m     21\u001B[0m \u001B[38;5;66;03m# Train the model\u001B[39;00m\n\u001B[1;32m---> 22\u001B[0m \u001B[43mtrainer\u001B[49m\u001B[38;5;241;43m.\u001B[39;49m\u001B[43mfit\u001B[49m\u001B[43m(\u001B[49m\u001B[43mclassifier\u001B[49m\u001B[43m)\u001B[49m\n",
      "File \u001B[1;32m~\\anaconda3\\envs\\trustworthyml\\lib\\site-packages\\pytorch_lightning\\trainer\\trainer.py:538\u001B[0m, in \u001B[0;36mTrainer.fit\u001B[1;34m(self, model, train_dataloaders, val_dataloaders, datamodule, ckpt_path)\u001B[0m\n\u001B[0;32m    536\u001B[0m \u001B[38;5;28mself\u001B[39m\u001B[38;5;241m.\u001B[39mstate\u001B[38;5;241m.\u001B[39mstatus \u001B[38;5;241m=\u001B[39m TrainerStatus\u001B[38;5;241m.\u001B[39mRUNNING\n\u001B[0;32m    537\u001B[0m \u001B[38;5;28mself\u001B[39m\u001B[38;5;241m.\u001B[39mtraining \u001B[38;5;241m=\u001B[39m \u001B[38;5;28;01mTrue\u001B[39;00m\n\u001B[1;32m--> 538\u001B[0m \u001B[43mcall\u001B[49m\u001B[38;5;241;43m.\u001B[39;49m\u001B[43m_call_and_handle_interrupt\u001B[49m\u001B[43m(\u001B[49m\n\u001B[0;32m    539\u001B[0m \u001B[43m    \u001B[49m\u001B[38;5;28;43mself\u001B[39;49m\u001B[43m,\u001B[49m\u001B[43m \u001B[49m\u001B[38;5;28;43mself\u001B[39;49m\u001B[38;5;241;43m.\u001B[39;49m\u001B[43m_fit_impl\u001B[49m\u001B[43m,\u001B[49m\u001B[43m \u001B[49m\u001B[43mmodel\u001B[49m\u001B[43m,\u001B[49m\u001B[43m \u001B[49m\u001B[43mtrain_dataloaders\u001B[49m\u001B[43m,\u001B[49m\u001B[43m \u001B[49m\u001B[43mval_dataloaders\u001B[49m\u001B[43m,\u001B[49m\u001B[43m \u001B[49m\u001B[43mdatamodule\u001B[49m\u001B[43m,\u001B[49m\u001B[43m \u001B[49m\u001B[43mckpt_path\u001B[49m\n\u001B[0;32m    540\u001B[0m \u001B[43m\u001B[49m\u001B[43m)\u001B[49m\n",
      "File \u001B[1;32m~\\anaconda3\\envs\\trustworthyml\\lib\\site-packages\\pytorch_lightning\\trainer\\call.py:47\u001B[0m, in \u001B[0;36m_call_and_handle_interrupt\u001B[1;34m(trainer, trainer_fn, *args, **kwargs)\u001B[0m\n\u001B[0;32m     45\u001B[0m     \u001B[38;5;28;01mif\u001B[39;00m trainer\u001B[38;5;241m.\u001B[39mstrategy\u001B[38;5;241m.\u001B[39mlauncher \u001B[38;5;129;01mis\u001B[39;00m \u001B[38;5;129;01mnot\u001B[39;00m \u001B[38;5;28;01mNone\u001B[39;00m:\n\u001B[0;32m     46\u001B[0m         \u001B[38;5;28;01mreturn\u001B[39;00m trainer\u001B[38;5;241m.\u001B[39mstrategy\u001B[38;5;241m.\u001B[39mlauncher\u001B[38;5;241m.\u001B[39mlaunch(trainer_fn, \u001B[38;5;241m*\u001B[39margs, trainer\u001B[38;5;241m=\u001B[39mtrainer, \u001B[38;5;241m*\u001B[39m\u001B[38;5;241m*\u001B[39mkwargs)\n\u001B[1;32m---> 47\u001B[0m     \u001B[38;5;28;01mreturn\u001B[39;00m trainer_fn(\u001B[38;5;241m*\u001B[39margs, \u001B[38;5;241m*\u001B[39m\u001B[38;5;241m*\u001B[39mkwargs)\n\u001B[0;32m     49\u001B[0m \u001B[38;5;28;01mexcept\u001B[39;00m _TunerExitException:\n\u001B[0;32m     50\u001B[0m     _call_teardown_hook(trainer)\n",
      "File \u001B[1;32m~\\anaconda3\\envs\\trustworthyml\\lib\\site-packages\\pytorch_lightning\\trainer\\trainer.py:574\u001B[0m, in \u001B[0;36mTrainer._fit_impl\u001B[1;34m(self, model, train_dataloaders, val_dataloaders, datamodule, ckpt_path)\u001B[0m\n\u001B[0;32m    567\u001B[0m \u001B[38;5;28;01massert\u001B[39;00m \u001B[38;5;28mself\u001B[39m\u001B[38;5;241m.\u001B[39mstate\u001B[38;5;241m.\u001B[39mfn \u001B[38;5;129;01mis\u001B[39;00m \u001B[38;5;129;01mnot\u001B[39;00m \u001B[38;5;28;01mNone\u001B[39;00m\n\u001B[0;32m    568\u001B[0m ckpt_path \u001B[38;5;241m=\u001B[39m \u001B[38;5;28mself\u001B[39m\u001B[38;5;241m.\u001B[39m_checkpoint_connector\u001B[38;5;241m.\u001B[39m_select_ckpt_path(\n\u001B[0;32m    569\u001B[0m     \u001B[38;5;28mself\u001B[39m\u001B[38;5;241m.\u001B[39mstate\u001B[38;5;241m.\u001B[39mfn,\n\u001B[0;32m    570\u001B[0m     ckpt_path,\n\u001B[0;32m    571\u001B[0m     model_provided\u001B[38;5;241m=\u001B[39m\u001B[38;5;28;01mTrue\u001B[39;00m,\n\u001B[0;32m    572\u001B[0m     model_connected\u001B[38;5;241m=\u001B[39m\u001B[38;5;28mself\u001B[39m\u001B[38;5;241m.\u001B[39mlightning_module \u001B[38;5;129;01mis\u001B[39;00m \u001B[38;5;129;01mnot\u001B[39;00m \u001B[38;5;28;01mNone\u001B[39;00m,\n\u001B[0;32m    573\u001B[0m )\n\u001B[1;32m--> 574\u001B[0m \u001B[38;5;28;43mself\u001B[39;49m\u001B[38;5;241;43m.\u001B[39;49m\u001B[43m_run\u001B[49m\u001B[43m(\u001B[49m\u001B[43mmodel\u001B[49m\u001B[43m,\u001B[49m\u001B[43m \u001B[49m\u001B[43mckpt_path\u001B[49m\u001B[38;5;241;43m=\u001B[39;49m\u001B[43mckpt_path\u001B[49m\u001B[43m)\u001B[49m\n\u001B[0;32m    576\u001B[0m \u001B[38;5;28;01massert\u001B[39;00m \u001B[38;5;28mself\u001B[39m\u001B[38;5;241m.\u001B[39mstate\u001B[38;5;241m.\u001B[39mstopped\n\u001B[0;32m    577\u001B[0m \u001B[38;5;28mself\u001B[39m\u001B[38;5;241m.\u001B[39mtraining \u001B[38;5;241m=\u001B[39m \u001B[38;5;28;01mFalse\u001B[39;00m\n",
      "File \u001B[1;32m~\\anaconda3\\envs\\trustworthyml\\lib\\site-packages\\pytorch_lightning\\trainer\\trainer.py:981\u001B[0m, in \u001B[0;36mTrainer._run\u001B[1;34m(self, model, ckpt_path)\u001B[0m\n\u001B[0;32m    976\u001B[0m \u001B[38;5;28mself\u001B[39m\u001B[38;5;241m.\u001B[39m_signal_connector\u001B[38;5;241m.\u001B[39mregister_signal_handlers()\n\u001B[0;32m    978\u001B[0m \u001B[38;5;66;03m# ----------------------------\u001B[39;00m\n\u001B[0;32m    979\u001B[0m \u001B[38;5;66;03m# RUN THE TRAINER\u001B[39;00m\n\u001B[0;32m    980\u001B[0m \u001B[38;5;66;03m# ----------------------------\u001B[39;00m\n\u001B[1;32m--> 981\u001B[0m results \u001B[38;5;241m=\u001B[39m \u001B[38;5;28;43mself\u001B[39;49m\u001B[38;5;241;43m.\u001B[39;49m\u001B[43m_run_stage\u001B[49m\u001B[43m(\u001B[49m\u001B[43m)\u001B[49m\n\u001B[0;32m    983\u001B[0m \u001B[38;5;66;03m# ----------------------------\u001B[39;00m\n\u001B[0;32m    984\u001B[0m \u001B[38;5;66;03m# POST-Training CLEAN UP\u001B[39;00m\n\u001B[0;32m    985\u001B[0m \u001B[38;5;66;03m# ----------------------------\u001B[39;00m\n\u001B[0;32m    986\u001B[0m log\u001B[38;5;241m.\u001B[39mdebug(\u001B[38;5;124mf\u001B[39m\u001B[38;5;124m\"\u001B[39m\u001B[38;5;132;01m{\u001B[39;00m\u001B[38;5;28mself\u001B[39m\u001B[38;5;241m.\u001B[39m\u001B[38;5;18m__class__\u001B[39m\u001B[38;5;241m.\u001B[39m\u001B[38;5;18m__name__\u001B[39m\u001B[38;5;132;01m}\u001B[39;00m\u001B[38;5;124m: trainer tearing down\u001B[39m\u001B[38;5;124m\"\u001B[39m)\n",
      "File \u001B[1;32m~\\anaconda3\\envs\\trustworthyml\\lib\\site-packages\\pytorch_lightning\\trainer\\trainer.py:1023\u001B[0m, in \u001B[0;36mTrainer._run_stage\u001B[1;34m(self)\u001B[0m\n\u001B[0;32m   1021\u001B[0m \u001B[38;5;28;01mif\u001B[39;00m \u001B[38;5;28mself\u001B[39m\u001B[38;5;241m.\u001B[39mtraining:\n\u001B[0;32m   1022\u001B[0m     \u001B[38;5;28;01mwith\u001B[39;00m isolate_rng():\n\u001B[1;32m-> 1023\u001B[0m         \u001B[38;5;28;43mself\u001B[39;49m\u001B[38;5;241;43m.\u001B[39;49m\u001B[43m_run_sanity_check\u001B[49m\u001B[43m(\u001B[49m\u001B[43m)\u001B[49m\n\u001B[0;32m   1024\u001B[0m     \u001B[38;5;28;01mwith\u001B[39;00m torch\u001B[38;5;241m.\u001B[39mautograd\u001B[38;5;241m.\u001B[39mset_detect_anomaly(\u001B[38;5;28mself\u001B[39m\u001B[38;5;241m.\u001B[39m_detect_anomaly):\n\u001B[0;32m   1025\u001B[0m         \u001B[38;5;28mself\u001B[39m\u001B[38;5;241m.\u001B[39mfit_loop\u001B[38;5;241m.\u001B[39mrun()\n",
      "File \u001B[1;32m~\\anaconda3\\envs\\trustworthyml\\lib\\site-packages\\pytorch_lightning\\trainer\\trainer.py:1052\u001B[0m, in \u001B[0;36mTrainer._run_sanity_check\u001B[1;34m(self)\u001B[0m\n\u001B[0;32m   1049\u001B[0m call\u001B[38;5;241m.\u001B[39m_call_callback_hooks(\u001B[38;5;28mself\u001B[39m, \u001B[38;5;124m\"\u001B[39m\u001B[38;5;124mon_sanity_check_start\u001B[39m\u001B[38;5;124m\"\u001B[39m)\n\u001B[0;32m   1051\u001B[0m \u001B[38;5;66;03m# run eval step\u001B[39;00m\n\u001B[1;32m-> 1052\u001B[0m \u001B[43mval_loop\u001B[49m\u001B[38;5;241;43m.\u001B[39;49m\u001B[43mrun\u001B[49m\u001B[43m(\u001B[49m\u001B[43m)\u001B[49m\n\u001B[0;32m   1054\u001B[0m call\u001B[38;5;241m.\u001B[39m_call_callback_hooks(\u001B[38;5;28mself\u001B[39m, \u001B[38;5;124m\"\u001B[39m\u001B[38;5;124mon_sanity_check_end\u001B[39m\u001B[38;5;124m\"\u001B[39m)\n\u001B[0;32m   1056\u001B[0m \u001B[38;5;66;03m# reset logger connector\u001B[39;00m\n",
      "File \u001B[1;32m~\\anaconda3\\envs\\trustworthyml\\lib\\site-packages\\pytorch_lightning\\loops\\utilities.py:178\u001B[0m, in \u001B[0;36m_no_grad_context.<locals>._decorator\u001B[1;34m(self, *args, **kwargs)\u001B[0m\n\u001B[0;32m    176\u001B[0m     context_manager \u001B[38;5;241m=\u001B[39m torch\u001B[38;5;241m.\u001B[39mno_grad\n\u001B[0;32m    177\u001B[0m \u001B[38;5;28;01mwith\u001B[39;00m context_manager():\n\u001B[1;32m--> 178\u001B[0m     \u001B[38;5;28;01mreturn\u001B[39;00m loop_run(\u001B[38;5;28mself\u001B[39m, \u001B[38;5;241m*\u001B[39margs, \u001B[38;5;241m*\u001B[39m\u001B[38;5;241m*\u001B[39mkwargs)\n",
      "File \u001B[1;32m~\\anaconda3\\envs\\trustworthyml\\lib\\site-packages\\pytorch_lightning\\loops\\evaluation_loop.py:128\u001B[0m, in \u001B[0;36m_EvaluationLoop.run\u001B[1;34m(self)\u001B[0m\n\u001B[0;32m    126\u001B[0m \u001B[38;5;28;01melse\u001B[39;00m:\n\u001B[0;32m    127\u001B[0m     dataloader_iter \u001B[38;5;241m=\u001B[39m \u001B[38;5;28;01mNone\u001B[39;00m\n\u001B[1;32m--> 128\u001B[0m     batch, batch_idx, dataloader_idx \u001B[38;5;241m=\u001B[39m \u001B[38;5;28;43mnext\u001B[39;49m\u001B[43m(\u001B[49m\u001B[43mdata_fetcher\u001B[49m\u001B[43m)\u001B[49m\n\u001B[0;32m    129\u001B[0m \u001B[38;5;28;01mif\u001B[39;00m previous_dataloader_idx \u001B[38;5;241m!=\u001B[39m dataloader_idx:\n\u001B[0;32m    130\u001B[0m     \u001B[38;5;66;03m# the dataloader has changed, notify the logger connector\u001B[39;00m\n\u001B[0;32m    131\u001B[0m     \u001B[38;5;28mself\u001B[39m\u001B[38;5;241m.\u001B[39m_store_dataloader_outputs()\n",
      "File \u001B[1;32m~\\anaconda3\\envs\\trustworthyml\\lib\\site-packages\\pytorch_lightning\\loops\\fetchers.py:133\u001B[0m, in \u001B[0;36m_PrefetchDataFetcher.__next__\u001B[1;34m(self)\u001B[0m\n\u001B[0;32m    130\u001B[0m         \u001B[38;5;28mself\u001B[39m\u001B[38;5;241m.\u001B[39mdone \u001B[38;5;241m=\u001B[39m \u001B[38;5;129;01mnot\u001B[39;00m \u001B[38;5;28mself\u001B[39m\u001B[38;5;241m.\u001B[39mbatches\n\u001B[0;32m    131\u001B[0m \u001B[38;5;28;01melif\u001B[39;00m \u001B[38;5;129;01mnot\u001B[39;00m \u001B[38;5;28mself\u001B[39m\u001B[38;5;241m.\u001B[39mdone:\n\u001B[0;32m    132\u001B[0m     \u001B[38;5;66;03m# this will run only when no pre-fetching was done.\u001B[39;00m\n\u001B[1;32m--> 133\u001B[0m     batch \u001B[38;5;241m=\u001B[39m \u001B[38;5;28;43msuper\u001B[39;49m\u001B[43m(\u001B[49m\u001B[43m)\u001B[49m\u001B[38;5;241;43m.\u001B[39;49m\u001B[38;5;21;43m__next__\u001B[39;49m\u001B[43m(\u001B[49m\u001B[43m)\u001B[49m\n\u001B[0;32m    134\u001B[0m \u001B[38;5;28;01melse\u001B[39;00m:\n\u001B[0;32m    135\u001B[0m     \u001B[38;5;66;03m# the iterator is empty\u001B[39;00m\n\u001B[0;32m    136\u001B[0m     \u001B[38;5;28;01mraise\u001B[39;00m \u001B[38;5;167;01mStopIteration\u001B[39;00m\n",
      "File \u001B[1;32m~\\anaconda3\\envs\\trustworthyml\\lib\\site-packages\\pytorch_lightning\\loops\\fetchers.py:60\u001B[0m, in \u001B[0;36m_DataFetcher.__next__\u001B[1;34m(self)\u001B[0m\n\u001B[0;32m     58\u001B[0m \u001B[38;5;28mself\u001B[39m\u001B[38;5;241m.\u001B[39m_start_profiler()\n\u001B[0;32m     59\u001B[0m \u001B[38;5;28;01mtry\u001B[39;00m:\n\u001B[1;32m---> 60\u001B[0m     batch \u001B[38;5;241m=\u001B[39m \u001B[38;5;28;43mnext\u001B[39;49m\u001B[43m(\u001B[49m\u001B[38;5;28;43mself\u001B[39;49m\u001B[38;5;241;43m.\u001B[39;49m\u001B[43miterator\u001B[49m\u001B[43m)\u001B[49m\n\u001B[0;32m     61\u001B[0m \u001B[38;5;28;01mexcept\u001B[39;00m \u001B[38;5;167;01mStopIteration\u001B[39;00m:\n\u001B[0;32m     62\u001B[0m     \u001B[38;5;28mself\u001B[39m\u001B[38;5;241m.\u001B[39mdone \u001B[38;5;241m=\u001B[39m \u001B[38;5;28;01mTrue\u001B[39;00m\n",
      "File \u001B[1;32m~\\anaconda3\\envs\\trustworthyml\\lib\\site-packages\\pytorch_lightning\\utilities\\combined_loader.py:341\u001B[0m, in \u001B[0;36mCombinedLoader.__next__\u001B[1;34m(self)\u001B[0m\n\u001B[0;32m    339\u001B[0m \u001B[38;5;28;01mdef\u001B[39;00m \u001B[38;5;21m__next__\u001B[39m(\u001B[38;5;28mself\u001B[39m) \u001B[38;5;241m-\u001B[39m\u001B[38;5;241m>\u001B[39m _ITERATOR_RETURN:\n\u001B[0;32m    340\u001B[0m     \u001B[38;5;28;01massert\u001B[39;00m \u001B[38;5;28mself\u001B[39m\u001B[38;5;241m.\u001B[39m_iterator \u001B[38;5;129;01mis\u001B[39;00m \u001B[38;5;129;01mnot\u001B[39;00m \u001B[38;5;28;01mNone\u001B[39;00m\n\u001B[1;32m--> 341\u001B[0m     out \u001B[38;5;241m=\u001B[39m \u001B[38;5;28;43mnext\u001B[39;49m\u001B[43m(\u001B[49m\u001B[38;5;28;43mself\u001B[39;49m\u001B[38;5;241;43m.\u001B[39;49m\u001B[43m_iterator\u001B[49m\u001B[43m)\u001B[49m\n\u001B[0;32m    342\u001B[0m     \u001B[38;5;28;01mif\u001B[39;00m \u001B[38;5;28misinstance\u001B[39m(\u001B[38;5;28mself\u001B[39m\u001B[38;5;241m.\u001B[39m_iterator, _Sequential):\n\u001B[0;32m    343\u001B[0m         \u001B[38;5;28;01mreturn\u001B[39;00m out\n",
      "File \u001B[1;32m~\\anaconda3\\envs\\trustworthyml\\lib\\site-packages\\pytorch_lightning\\utilities\\combined_loader.py:142\u001B[0m, in \u001B[0;36m_Sequential.__next__\u001B[1;34m(self)\u001B[0m\n\u001B[0;32m    139\u001B[0m             \u001B[38;5;28;01mraise\u001B[39;00m \u001B[38;5;167;01mStopIteration\u001B[39;00m\n\u001B[0;32m    141\u001B[0m \u001B[38;5;28;01mtry\u001B[39;00m:\n\u001B[1;32m--> 142\u001B[0m     out \u001B[38;5;241m=\u001B[39m \u001B[38;5;28;43mnext\u001B[39;49m\u001B[43m(\u001B[49m\u001B[38;5;28;43mself\u001B[39;49m\u001B[38;5;241;43m.\u001B[39;49m\u001B[43miterators\u001B[49m\u001B[43m[\u001B[49m\u001B[38;5;241;43m0\u001B[39;49m\u001B[43m]\u001B[49m\u001B[43m)\u001B[49m\n\u001B[0;32m    143\u001B[0m \u001B[38;5;28;01mexcept\u001B[39;00m \u001B[38;5;167;01mStopIteration\u001B[39;00m:\n\u001B[0;32m    144\u001B[0m     \u001B[38;5;66;03m# try the next iterator\u001B[39;00m\n\u001B[0;32m    145\u001B[0m     \u001B[38;5;28mself\u001B[39m\u001B[38;5;241m.\u001B[39m_use_next_iterator()\n",
      "Cell \u001B[1;32mIn[15], line 66\u001B[0m, in \u001B[0;36mRobustDataLoader.__iter__\u001B[1;34m(self)\u001B[0m\n\u001B[0;32m     64\u001B[0m \u001B[38;5;66;03m# Generate and collect perturbations\u001B[39;00m\n\u001B[0;32m     65\u001B[0m \u001B[38;5;28;01mfor\u001B[39;00m _ \u001B[38;5;129;01min\u001B[39;00m \u001B[38;5;28mrange\u001B[39m(\u001B[38;5;28mself\u001B[39m\u001B[38;5;241m.\u001B[39mnum_perturbations):\n\u001B[1;32m---> 66\u001B[0m     perturbed_image \u001B[38;5;241m=\u001B[39m \u001B[38;5;28;43mself\u001B[39;49m\u001B[38;5;241;43m.\u001B[39;49m\u001B[43mperform_pgd\u001B[49m\u001B[43m(\u001B[49m\u001B[43mimage\u001B[49m\u001B[43m,\u001B[49m\u001B[43m \u001B[49m\u001B[43mlabel\u001B[49m\u001B[43m)\u001B[49m\n\u001B[0;32m     67\u001B[0m     perturbed_images\u001B[38;5;241m.\u001B[39mappend(perturbed_image)\n\u001B[0;32m     68\u001B[0m     original_labels\u001B[38;5;241m.\u001B[39mappend(label)\n",
      "Cell \u001B[1;32mIn[15], line 46\u001B[0m, in \u001B[0;36mRobustDataLoader.perform_pgd\u001B[1;34m(self, image, label)\u001B[0m\n\u001B[0;32m     44\u001B[0m random_alpha \u001B[38;5;241m=\u001B[39m random\u001B[38;5;241m.\u001B[39muniform(\u001B[38;5;241m0.01\u001B[39m, \u001B[38;5;241m0.1\u001B[39m)\n\u001B[0;32m     45\u001B[0m random_steps \u001B[38;5;241m=\u001B[39m \u001B[38;5;241m15\u001B[39m\n\u001B[1;32m---> 46\u001B[0m perturbed_image \u001B[38;5;241m=\u001B[39m \u001B[38;5;28;43mself\u001B[39;49m\u001B[38;5;241;43m.\u001B[39;49m\u001B[43mpgd_attacker\u001B[49m\u001B[38;5;241;43m.\u001B[39;49m\u001B[43mpgd_attack\u001B[49m\u001B[43m(\u001B[49m\u001B[43mimage\u001B[49m\u001B[38;5;241;43m.\u001B[39;49m\u001B[43munsqueeze\u001B[49m\u001B[43m(\u001B[49m\u001B[38;5;241;43m0\u001B[39;49m\u001B[43m)\u001B[49m\u001B[43m,\u001B[49m\u001B[43m \u001B[49m\u001B[43mlabel\u001B[49m\u001B[38;5;241;43m.\u001B[39;49m\u001B[43munsqueeze\u001B[49m\u001B[43m(\u001B[49m\u001B[38;5;241;43m0\u001B[39;49m\u001B[43m)\u001B[49m\u001B[43m,\u001B[49m\u001B[43m \u001B[49m\u001B[43meps\u001B[49m\u001B[38;5;241;43m=\u001B[39;49m\u001B[43mrandom_eps\u001B[49m\u001B[43m,\u001B[49m\n\u001B[0;32m     47\u001B[0m \u001B[43m                                          \u001B[49m\u001B[43malpha\u001B[49m\u001B[38;5;241;43m=\u001B[39;49m\u001B[43mrandom_alpha\u001B[49m\u001B[43m,\u001B[49m\u001B[43m \u001B[49m\u001B[43msteps\u001B[49m\u001B[38;5;241;43m=\u001B[39;49m\u001B[43mrandom_steps\u001B[49m\u001B[43m)\u001B[49m\n\u001B[0;32m     48\u001B[0m \u001B[38;5;28;01mreturn\u001B[39;00m perturbed_image\u001B[38;5;241m.\u001B[39msqueeze(\u001B[38;5;241m0\u001B[39m)\u001B[38;5;241m.\u001B[39mto(\u001B[38;5;28mself\u001B[39m\u001B[38;5;241m.\u001B[39mdevice)\n",
      "Cell \u001B[1;32mIn[13], line 56\u001B[0m, in \u001B[0;36mResnetPGDAttacker.pgd_attack\u001B[1;34m(self, image, label, eps, alpha, steps)\u001B[0m\n\u001B[0;32m     53\u001B[0m \u001B[38;5;28mprint\u001B[39m(\u001B[38;5;124mf\u001B[39m\u001B[38;5;124m\"\u001B[39m\u001B[38;5;124mLoss: \u001B[39m\u001B[38;5;132;01m{\u001B[39;00mloss\u001B[38;5;132;01m}\u001B[39;00m\u001B[38;5;124m\"\u001B[39m)\n\u001B[0;32m     54\u001B[0m \u001B[38;5;28mprint\u001B[39m(\u001B[38;5;124mf\u001B[39m\u001B[38;5;124m\"\u001B[39m\u001B[38;5;124mAdversarial images: \u001B[39m\u001B[38;5;132;01m{\u001B[39;00madv_images\u001B[38;5;132;01m}\u001B[39;00m\u001B[38;5;124m\"\u001B[39m)\n\u001B[1;32m---> 56\u001B[0m \u001B[38;5;28;01massert\u001B[39;00m loss\u001B[38;5;241m.\u001B[39mrequires_grad \u001B[38;5;241m==\u001B[39m \u001B[38;5;28;01mTrue\u001B[39;00m, \u001B[38;5;124m\"\u001B[39m\u001B[38;5;124mloss should be requires_grad\u001B[39m\u001B[38;5;124m\"\u001B[39m\n\u001B[0;32m     57\u001B[0m \u001B[38;5;28;01massert\u001B[39;00m adv_images\u001B[38;5;241m.\u001B[39mrequires_grad \u001B[38;5;241m==\u001B[39m \u001B[38;5;28;01mTrue\u001B[39;00m, \u001B[38;5;124m\"\u001B[39m\u001B[38;5;124madv_images should be requires_grad\u001B[39m\u001B[38;5;124m\"\u001B[39m\n\u001B[0;32m     58\u001B[0m \u001B[38;5;66;03m# Compute gradient wrt images\u001B[39;00m\n",
      "\u001B[1;31mAssertionError\u001B[0m: loss should be requires_grad"
     ]
    }
   ],
   "execution_count": 19
  },
  {
   "metadata": {},
   "cell_type": "code",
   "source": [
    "%load_ext tensorboard\n",
    "%tensorboard --logdir lightning_logs/"
   ],
   "id": "be727aefe3b8073a",
   "outputs": [],
   "execution_count": null
  },
  {
   "metadata": {},
   "cell_type": "code",
   "source": [
    "# Test the model\n",
    "trainer.test()"
   ],
   "id": "778377282eab7dde",
   "outputs": [],
   "execution_count": null
  },
  {
   "metadata": {},
   "cell_type": "code",
   "source": [
    "'''\n",
    "TODO:\n",
    "1. check tensorboard here in the cell directly \n",
    "2. evaluate the evaluate code as the checkpointing and reloading of that model is not as straightforward as I thought it would be \n",
    "'''"
   ],
   "id": "dadf7840d0a71ad9",
   "outputs": [],
   "execution_count": null
  },
  {
   "metadata": {},
   "cell_type": "markdown",
   "source": "# 5. Saving model & Evaluating Results",
   "id": "f2232fa60d92bde6"
  },
  {
   "metadata": {},
   "cell_type": "code",
   "source": [
    "def load_model_from_checkpoint(checkpoint_path):\n",
    "    # Load the checkpoint\n",
    "    checkpoint = torch.load(checkpoint_path)\n",
    "\n",
    "    # Create a new instance of your model\n",
    "    finetuned_model = RobustResnet()  # Initialize with the required parameters\n",
    "\n",
    "    # Load the model weights from the checkpoint\n",
    "    finetuned_model.load_state_dict(checkpoint['state_dict'])\n",
    "\n",
    "    # Set the model to evaluation mode\n",
    "    finetuned_model.eval()\n",
    "    \n",
    "    return finetuned_model\n",
    "\n",
    "def evaluate_model(checkpoint_path, original_model, test_dataloader, device=DEVICE):\n",
    "    # Load the fine-tuned model from the checkpoint\n",
    "    fine_tuned_model = load_model_from_checkpoint(checkpoint_path)\n",
    "\n",
    "    # Move models to the appropriate device\n",
    "    original_model.to(device)\n",
    "    fine_tuned_model.to(device)\n",
    "\n",
    "    # Initialize accuracy metrics\n",
    "    original_acc = Accuracy()\n",
    "    fine_tuned_acc = Accuracy()\n",
    "\n",
    "    # Evaluate the original model\n",
    "    with torch.no_grad():\n",
    "        for batch in test_dataloader:\n",
    "            images, labels = batch\n",
    "            images, labels = images.to(device), labels.to(device)\n",
    "\n",
    "            # Original model predictions\n",
    "            original_logits = original_model(images)\n",
    "            original_acc(original_logits, labels)\n",
    "\n",
    "            # Fine-tuned model predictions\n",
    "            fine_tuned_logits = fine_tuned_model(images)\n",
    "            fine_tuned_acc(fine_tuned_logits, labels)\n",
    "\n",
    "    # Calculate accuracies\n",
    "    original_accuracy = original_acc.compute()\n",
    "    fine_tuned_accuracy = fine_tuned_acc.compute()\n",
    "\n",
    "    print(f'Evaluation Original Model Accuracy: {original_accuracy:.4f}')\n",
    "    print(f'Evaluation Fine-Tuned Model Accuracy: {fine_tuned_accuracy:.4f}')\n",
    "\n",
    "    return original_accuracy, fine_tuned_accuracy"
   ],
   "id": "eed147733535b4b9",
   "outputs": [],
   "execution_count": null
  }
 ],
 "metadata": {
  "kernelspec": {
   "display_name": "Python 3",
   "language": "python",
   "name": "python3"
  },
  "language_info": {
   "codemirror_mode": {
    "name": "ipython",
    "version": 2
   },
   "file_extension": ".py",
   "mimetype": "text/x-python",
   "name": "python",
   "nbconvert_exporter": "python",
   "pygments_lexer": "ipython2",
   "version": "2.7.6"
  }
 },
 "nbformat": 4,
 "nbformat_minor": 5
}
